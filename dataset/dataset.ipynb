{
 "cells": [
  {
   "cell_type": "markdown",
   "metadata": {},
   "source": [
    "### Required"
   ]
  },
  {
   "cell_type": "markdown",
   "metadata": {},
   "source": [
    "To run this you will need to run \n",
    "```Bash\n",
    "pip3 install EasyNN\n",
    "pip3 install h5py\n",
    "```\n",
    "\n",
    "#### or  \n",
    "```\n",
    "pip3 install -r requirements.txt\n",
    "```"
   ]
  },
  {
   "cell_type": "markdown",
   "metadata": {},
   "source": [
    "## Dataset\n",
    "Dataset was pulled from Caltech. Machine learning of optical properties of materials - predicting spectra from images and images from spectra.\n",
    "\n",
    "**Authors**\n",
    "Gregoire, John Caltech 0000-0002-2863-5265 ORCID  \n",
    "Stein, Helge Caltech  \n",
    "Soedarmadji, Edwin Caltech  \n",
    "Newhouse, Paul Caltech  \n",
    "Guevarra, Dan Caltech  \n",
    "\n",
    "**URL**\n",
    "https://data.caltech.edu/records/1103"
   ]
  },
  {
   "cell_type": "code",
   "execution_count": 1,
   "metadata": {},
   "outputs": [
    {
     "name": "stdout",
     "output_type": "stream",
     "text": [
      "Downloading - dataset_raw.h5:\n",
      "Downloading - training_raw.txt:\n",
      "Downloading - test_raw.txt:\n"
     ]
    },
    {
     "data": {
      "text/plain": [
       "'test_raw.txt'"
      ]
     },
     "execution_count": 1,
     "metadata": {},
     "output_type": "execute_result"
    }
   ],
   "source": [
    "from EasyNN.utilities import download\n",
    "\n",
    "download(\"dataset_raw.h5\",\"https://bit.ly/34xI5LW\")\n",
    "download(\"training_raw.txt\",\"https://bit.ly/3rpWZwP\")\n",
    "download(\"test_raw.txt\",\"https://bit.ly/34xOneu\")"
   ]
  },
  {
   "cell_type": "code",
   "execution_count": 2,
   "metadata": {},
   "outputs": [
    {
     "data": {
      "text/plain": [
       "['atfrac',\n",
       " 'atfrac_keys',\n",
       " 'energy_eV',\n",
       " 'images',\n",
       " 'loading_keys',\n",
       " 'loadings',\n",
       " 'plate_id',\n",
       " 'sample_id',\n",
       " 'spectra']"
      ]
     },
     "execution_count": 2,
     "metadata": {},
     "output_type": "execute_result"
    }
   ],
   "source": [
    "import numpy as np\n",
    "import pandas as pd\n",
    "import h5py\n",
    "\n",
    "hf = h5py.File('dataset_raw.h5', 'r')\n",
    "list(hf.keys())"
   ]
  },
  {
   "cell_type": "code",
   "execution_count": 3,
   "metadata": {},
   "outputs": [
    {
     "name": "stdout",
     "output_type": "stream",
     "text": [
      "(180902, 64, 64, 3)\n"
     ]
    }
   ],
   "source": [
    "images = hf['images']\n",
    "print(images.shape)"
   ]
  },
  {
   "cell_type": "markdown",
   "metadata": {},
   "source": [
    "Show me a sample image."
   ]
  },
  {
   "cell_type": "code",
   "execution_count": 11,
   "metadata": {},
   "outputs": [],
   "source": [
    "import matplotlib.pyplot as plt\n",
    "from math import isqrt\n",
    "\n",
    "def show(image:list[float]):\n",
    "    \"\"\"\n",
    "    Show dataset image.\n",
    "\n",
    "        Example:\n",
    "            hf = h5py.File('dataset_raw.h5', 'r')\n",
    "            images = hf['images']\n",
    "            show(images[0])\n",
    "            >>> Shows image plotted using matplotlib\n",
    "\n",
    "        Parameters:\n",
    "            image - Numpy array of floats.\n",
    "\n",
    "        Returns:\n",
    "            Matplotlib plotted image.\n",
    "    \"\"\"\n",
    "\n",
    "    # Flatten the array into the proper rgb format.\n",
    "    image = image.flatten('F')\n",
    "\n",
    "    # Check if the size of the array is in the correct size to be devided by three.\n",
    "    img_size = isqrt(image.size // 3)\n",
    "\n",
    "    if 3 * img_size**2 != image.size:\n",
    "        raise ValueError(f\"Can't convert image of size {image.size} to a square rgb image\")\n",
    "    \n",
    "    # Divide the array into three sections.\n",
    "    im_r, im_g, im_b = image.reshape(3, img_size, img_size)\n",
    "\n",
    "    # Stack the image to make an rgb image.\n",
    "    img = np.dstack((im_r, im_g, im_b))\n",
    "    \n",
    "    # Plot the image.\n",
    "    plt.imshow(img) \n",
    "    plt.show()\n"
   ]
  },
  {
   "cell_type": "code",
   "execution_count": 14,
   "metadata": {},
   "outputs": [
    {
     "data": {
      "image/png": "[encoded data removed]",
      "text/plain": [
       "<Figure size 432x288 with 1 Axes>"
      ]
     },
     "metadata": {
      "needs_background": "light"
     },
     "output_type": "display_data"
    }
   ],
   "source": [
    "show(images[0])"
   ]
  },
  {
   "cell_type": "code",
   "execution_count": null,
   "metadata": {},
   "outputs": [],
   "source": []
  }
 ],
 "metadata": {
  "kernelspec": {
   "display_name": "Python 3",
   "language": "python",
   "name": "python3"
  },
  "language_info": {
   "codemirror_mode": {
    "name": "ipython",
    "version": 3
   },
   "file_extension": ".py",
   "mimetype": "text/x-python",
   "name": "python",
   "nbconvert_exporter": "python",
   "pygments_lexer": "ipython3",
   "version": "3.9.7"
  }
 },
 "nbformat": 4,
 "nbformat_minor": 4
}
