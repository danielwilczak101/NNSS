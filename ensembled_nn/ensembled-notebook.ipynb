{
 "cells": [
  {
   "cell_type": "markdown",
   "metadata": {},
   "source": [
    "### Creating the models"
   ]
  },
  {
   "cell_type": "markdown",
   "metadata": {},
   "source": [
    "This section can be modified to allow for more variation in the models but for now they are initialized the same way but with different weights. This means that the models are still independent but the have the same structure."
   ]
  },
  {
   "cell_type": "markdown",
   "metadata": {},
   "source": [
    "### Dataset"
   ]
  },
  {
   "cell_type": "markdown",
   "metadata": {},
   "source": []
  },
  {
   "cell_type": "markdown",
   "metadata": {},
   "source": [
    "### Required"
   ]
  },
  {
   "cell_type": "markdown",
   "metadata": {},
   "source": [
    "To run this you will need to run ``pip3 install EasyNN``"
   ]
  },
  {
   "cell_type": "code",
   "execution_count": 2,
   "metadata": {},
   "outputs": [],
   "source": [
    "# How many models do you want to produce?\n",
    "number_of_models = 2"
   ]
  },
  {
   "cell_type": "markdown",
   "metadata": {},
   "source": [
    "### Creating the models for the ensembled nn."
   ]
  },
  {
   "cell_type": "code",
   "execution_count": 3,
   "metadata": {},
   "outputs": [
    {
     "name": "stdout",
     "output_type": "stream",
     "text": [
      "Iteration: 0\n",
      "Iteration: 100\n",
      "Iteration: 200\n",
      "Iteration: 300\n",
      "Iteration: 400\n",
      "Iteration: 500\n",
      "Iteration: 600\n",
      "Iteration: 607, Validation Accuracy: 0.888671875\n",
      "Parameters saved.\n",
      "Iteration: 0\n",
      "Iteration: 100\n",
      "Iteration: 200\n",
      "Iteration: 300\n",
      "Iteration: 400\n",
      "Iteration: 500\n",
      "Iteration: 600\n",
      "Iteration: 607, Validation Accuracy: 0.873046875\n",
      "Parameters saved.\n"
     ]
    }
   ],
   "source": [
    "from EasyNN.model import Network, Normalize, Randomize, ReLU, LogSoftMax\n",
    "from EasyNN.examples.mnist.number.data import dataset\n",
    "from EasyNN.examples.mnist.number import labels, show\n",
    "from EasyNN.optimizer import MomentumDescent\n",
    "import EasyNN.callbacks as cb\n",
    "import numpy as np\n",
    "\n",
    "for index in range(number_of_models):\n",
    "\n",
    "    # Create the mnist model.\n",
    "    model = Network(\n",
    "        Normalize(1e-3), Randomize(0.01),\n",
    "        1024, ReLU,\n",
    "        256, ReLU,\n",
    "        10, LogSoftMax,\n",
    "    )\n",
    "    # Set your models data\n",
    "    model.training.data = dataset\n",
    "\n",
    "    # Establish the labels and show feature.\n",
    "    model.labels = labels\n",
    "    model.show = show \n",
    "\n",
    "    # Use gradient descent with momentum.\n",
    "    model.optimizer = MomentumDescent()\n",
    "\n",
    "    # Change the default learning rate.\n",
    "    model.optimizer.lr = 0.03\n",
    "\n",
    "    model.callback(\n",
    "        # Set when to terminate point. \n",
    "        \n",
    "            # In this case it will end once your validation\n",
    "            # accuracy hits above 85% five times. The high \n",
    "            # percentage you add the longer it will take to train.\n",
    "        cb.ReachValidationAccuracy(limit=0.85, patience=1),\n",
    "    )\n",
    "\n",
    "    # When the model hit a validation point it will print the iteration and accuracy of the model.\n",
    "    model.print.on_validation_start(iteration=True,accuracy=True)\n",
    "    # When the model completes 100 iterations. It will print that iteration number.\n",
    "    model.print.on_training_start(iteration=True, frequency=100)\n",
    "    \n",
    "    # Save each model using the index as the name of it.\n",
    "    model.train()\n",
    "    model.save(str(index))"
   ]
  },
  {
   "cell_type": "markdown",
   "metadata": {},
   "source": [
    "### Using the indivigual models."
   ]
  },
  {
   "cell_type": "markdown",
   "metadata": {},
   "source": [
    "Load the models."
   ]
  },
  {
   "cell_type": "code",
   "execution_count": 20,
   "metadata": {},
   "outputs": [],
   "source": [
    "from EasyNN.model import Model\n",
    "from EasyNN.examples.mnist.number.data import dataset\n",
    "from tabulate import tabulate\n",
    "import numpy as np\n",
    "import pandas as pd\n",
    "\n",
    "images, labels = dataset\n",
    "\n",
    "models = [Model.load(str(index)) for index in range(number_of_models)]"
   ]
  },
  {
   "cell_type": "markdown",
   "metadata": {},
   "source": [
    "Tell me the prediction percentages."
   ]
  },
  {
   "cell_type": "code",
   "execution_count": 22,
   "metadata": {},
   "outputs": [
    {
     "name": "stdout",
     "output_type": "stream",
     "text": [
      "[1.0032963683681073, 406422.5674657392, 1206.4256292381701, 4642.609657926846, 913018.3506681944, 503.53089455663513, 7723.269756362647, 55724.94071509901, 11024.17251866657, 73627.03526623144]\n",
      "[1.0007996226851152, 4734901.066051636, 24627.15432907948, 7586.095716808697, 245655.13265028215, 3069.196418633928, 5658.143891155554, 43365.92573100674, 18461.461898885813, 23532.12515170926]\n"
     ]
    }
   ],
   "source": [
    "import math\n",
    "\n",
    "# This function still needs some work.\n",
    "def precentages(predictions):\n",
    "    \"\"\"Returns percentages of the models predictions.\"\"\"\n",
    "    print(predictions)\n",
    "    return [math.exp(-prediction) for prediction in predictions]\n",
    "\n",
    "for model in models:\n",
    "    # Classify what the second image is in the dataset.\n",
    "    print(precentages(model(images[1])))"
   ]
  },
  {
   "cell_type": "markdown",
   "metadata": {},
   "source": [
    "Show the image we are classifying"
   ]
  },
  {
   "cell_type": "code",
   "execution_count": 15,
   "metadata": {},
   "outputs": [
    {
     "data": {
      "image/png": "[encoded data removed]",
      "text/plain": [
       "<Figure size 432x288 with 1 Axes>"
      ]
     },
     "metadata": {
      "needs_background": "light"
     },
     "output_type": "display_data"
    }
   ],
   "source": [
    "# Grab the first image in the dataset.\n",
    "test_image = images[1]\n",
    "models[0].show(test_image)"
   ]
  },
  {
   "cell_type": "markdown",
   "metadata": {},
   "source": [
    "Lets classify that image."
   ]
  },
  {
   "cell_type": "code",
   "execution_count": 16,
   "metadata": {},
   "outputs": [
    {
     "name": "stdout",
     "output_type": "stream",
     "text": [
      "0\n",
      "0\n"
     ]
    }
   ],
   "source": [
    "for model in models:\n",
    "    print(model.classify(test_image))"
   ]
  },
  {
   "cell_type": "markdown",
   "metadata": {},
   "source": [
    "Wow what do you know they are both right. Now lets put those networks together so we can call them an enumerated network."
   ]
  },
  {
   "cell_type": "code",
   "execution_count": 18,
   "metadata": {},
   "outputs": [],
   "source": [
    "def ensemble_nn(models,image):\n",
    "    \"\"\"Takes in the models and an image to classify. It will\n",
    "    output the prediction from each model.\n",
    "    \n",
    "    Returns:\n",
    "        List of prediction values from each model.\n",
    "    \"\"\"\n",
    "\n",
    "    return [model.classify(image) for model in models]"
   ]
  },
  {
   "cell_type": "markdown",
   "metadata": {},
   "source": [
    "Now we have that fancy ensemble_nn function lets use some fancy statitistics and take the mode of the predictions."
   ]
  },
  {
   "cell_type": "code",
   "execution_count": null,
   "metadata": {},
   "outputs": [],
   "source": []
  },
  {
   "cell_type": "code",
   "execution_count": 19,
   "metadata": {},
   "outputs": [
    {
     "name": "stdout",
     "output_type": "stream",
     "text": [
      "0\n"
     ]
    }
   ],
   "source": [
    "from statistics import mode\n",
    "\n",
    "print(mode(ensemble_nn(models,test_image)))"
   ]
  }
 ],
 "metadata": {
  "kernelspec": {
   "display_name": "Python 3",
   "language": "python",
   "name": "python3"
  },
  "language_info": {
   "codemirror_mode": {
    "name": "ipython",
    "version": 3
   },
   "file_extension": ".py",
   "mimetype": "text/x-python",
   "name": "python",
   "nbconvert_exporter": "python",
   "pygments_lexer": "ipython3",
   "version": "3.9.7"
  }
 },
 "nbformat": 4,
 "nbformat_minor": 4
}
